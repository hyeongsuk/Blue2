# -*- coding: utf-8 -*-
"""
Google Colab에서 EEG 분석을 실행하고, 결과를 GitHub에 자동으로 커밋하는 스크립트.

이 스크립트를 Colab에 업로드하여 실행하세요.

실행 전 준비사항:
1. GitHub에 'Blue'라는 이름의 비어있는 Public 저장소를 생성하세요.
2. GitHub에서 Personal Access Token(PAT)을 생성하고 복사해두세요. (scope: repo)
3. Google Drive의 'Colab Notebooks/Blue/' 경로 안에 'KOOS'와 'DB' 폴더를 업로드하세요.
"""

import os
import getpass
from google.colab import drive
from pathlib import Path

# --- 1. 사용자 정보 및 설정 --- #
print("▶️ 1. GitHub 사용자 정보를 입력하세요.")
GITHUB_USER = getpass.getpass("GitHub 사용자 이름: ")
GITHUB_EMAIL = getpass.getpass("GitHub 이메일: ")
GITHUB_TOKEN = getpass.getpass("GitHub Personal Access Token (PAT): ")
GITHUB_REPO = "Blue2"

# --- 2. Google Drive 마운트 및 경로 설정 --- #
print("\n▶️ 2. Google Drive를 마운트합니다...")
drive.mount('/content/drive')
print("✅ Google Drive 마운트 완료!")

DDRIVE_BLUE_DIR = Path(f"/content/drive/MyDrive/Colab Notebooks/Blue")
COLAB_WORKSPACE = Path("/content/analysis_workspace")
COLAB_WORKSPACE.mkdir(exist_ok=True)
os.chdir(COLAB_WORKSPACE)

# --- 3. GitHub 저장소 클론 및 데이터 복사 --- #
print(f"\n▶️ 3. GitHub 저장소({GITHUB_REPO})를 클론합니다...")
repo_url = f"https://{GITHUB_TOKEN}@github.com/{GITHUB_USER}/{GITHUB_REPO}.git"
os.system(f"git clone {repo_url}")

CODE_DIR = COLAB_WORKSPACE / GITHUB_REPO
os.chdir(CODE_DIR)

print("\n▶️ 4. Google Drive에서 최신 프로젝트 파일(KOOS, DB)을 덮어씁니다...")
os.system(f"cp -r '{DRIVE_BLUE_DIR / 'KOOS'}' .")
os.system(f"cp -r '{DRIVE_BLUE_DIR / 'DB'}' .")
print("✅ 파일 복사 및 덮어쓰기 완료!")

# --- 5. Git 설정 및 .gitignore 생성 --- #
print("\n▶️ 5. Git 설정을 구성합니다...")
os.system(f"git config --global user.name '{GITHUB_USER}'")
os.system(f"git config --global user.email '{GITHUB_EMAIL}'")

# 대용량 데이터 폴더 및 임시 파일들을 git에서 제외
gitignore_content = """
# Large data files
DB/

# Python cache
__pycache__/
*.pyc

# Local files
.ipynb_checkpoints/
"""
with open(".gitignore", "w") as f:
    f.write(gitignore_content)
print("✅ .gitignore 파일 생성 및 Git 설정 완료!")


# --- 6. 라이브러리 설치 --- #
print("\n▶️ 6. 필수 라이브러리를 설치합니다...")
requirements_path = CODE_DIR / "KOOS" / "code2" / "requirements.txt"
if requirements_path.exists():
    os.system(f"pip install -r {requirements_path}")
    print("✅ 라이브러리 설치 완료!")
else:
    print(f"⚠️ 경고: {requirements_path}를 찾을 수 없습니다.")

# --- 7. 분석 실행 --- #
print("\n▶️ 7. EEG 최적화 분석을 시작합니다. (매우 오래 걸릴 수 있습니다)...")

analysis_code_dir = CODE_DIR / "KOOS" / "code2"
os.chdir(analysis_code_dir) # 분석 스크립트가 있는 디렉토리로 이동

script_to_run = "real_eeg_optimization.py"
data_dir_path = CODE_DIR / "DB" / "EEG" / "step3_cleaned"
event_csv_path = CODE_DIR / "DB" / "event_info2.csv"
results_dir_path = CODE_DIR / "KOOS" / "results_colab"

command = (
    f"python {script_to_run} "
    f"--data-dir '{data_dir_path}' "
    f"--event-csv '{event_csv_path}' "
    f"--results-dir '{results_dir_path}'"
)

print("\n[실행 명령어]:")
print(command)

os.system(command)
print("\n✅ 분석 완료!")

# --- 8. 결과 커밋 및 푸시 --- #
print("\n▶️ 8. 분석 결과를 GitHub에 커밋하고 푸시합니다...")
os.chdir(CODE_DIR) # 프로젝트 루트로 이동

os.system("git add .")
commit_message = f"feat: Run analysis on Colab and save results ({results_dir_path.name})"
os.system(f"git commit -m '{commit_message}'")
os.system("git push")

print("\n🎉 모든 작업이 완료되었습니다! GitHub 저장소에서 결과를 확인하세요.")